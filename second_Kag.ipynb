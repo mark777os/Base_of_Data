{
  "nbformat": 4,
  "nbformat_minor": 0,
  "metadata": {
    "kernelspec": {
      "language": "python",
      "display_name": "Python 3",
      "name": "python3"
    },
    "language_info": {
      "pygments_lexer": "ipython3",
      "nbconvert_exporter": "python",
      "version": "3.6.4",
      "file_extension": ".py",
      "codemirror_mode": {
        "name": "ipython",
        "version": 3
      },
      "name": "python",
      "mimetype": "text/x-python"
    },
    "colab": {
      "name": "second_Kag.ipynb",
      "provenance": [],
      "include_colab_link": true
    }
  },
  "cells": [
    {
      "cell_type": "markdown",
      "metadata": {
        "id": "view-in-github",
        "colab_type": "text"
      },
      "source": [
        "<a href=\"https://colab.research.google.com/github/mark777os/Base_of_Data/blob/master/second_Kag.ipynb\" target=\"_parent\"><img src=\"https://colab.research.google.com/assets/colab-badge.svg\" alt=\"Open In Colab\"/></a>"
      ]
    },
    {
      "cell_type": "markdown",
      "metadata": {
        "id": "ZbXvV4ezcYkf"
      },
      "source": [
        "Посмотрим на файлы соревнования"
      ]
    },
    {
      "cell_type": "code",
      "metadata": {
        "scrolled": true,
        "colab": {
          "base_uri": "https://localhost:8080/"
        },
        "id": "zW5Y25oCLGdM",
        "outputId": "61dbd673-f36a-4793-d529-632ff5488d51"
      },
      "source": [
        "# Импортируем библиотеки \n",
        "import tensorflow as tf\n",
        "import tensorflow.keras as keras\n",
        "import tensorflow.keras.models as M\n",
        "import tensorflow.keras.layers as L\n",
        "import tensorflow.keras.backend as K\n",
        "import numpy as np\n",
        "from sklearn.model_selection import train_test_split\n",
        "import matplotlib.pyplot as plt\n",
        "print(tf.__version__)\n",
        "print(keras.__version__)\n",
        "import pandas as pd\n",
        "from IPython.display import clear_output\n",
        "from google.colab import drive\n",
        "import os\n",
        "%matplotlib inline"
      ],
      "execution_count": null,
      "outputs": [
        {
          "output_type": "stream",
          "text": [
            "2.5.0\n",
            "2.5.0\n"
          ],
          "name": "stdout"
        }
      ]
    },
    {
      "cell_type": "code",
      "metadata": {
        "colab": {
          "base_uri": "https://localhost:8080/"
        },
        "id": "-w3tflFN8AG9",
        "outputId": "bdfad5f2-0f8c-4e46-9e34-5dd502b0258e"
      },
      "source": [
        "\n",
        "drive.mount('/content/drive')"
      ],
      "execution_count": null,
      "outputs": [
        {
          "output_type": "stream",
          "text": [
            "Mounted at /content/drive\n"
          ],
          "name": "stdout"
        }
      ]
    },
    {
      "cell_type": "markdown",
      "metadata": {
        "id": "zZfWrCQPcYko"
      },
      "source": [
        "Загрузим данные в массивы numpy."
      ]
    },
    {
      "cell_type": "code",
      "metadata": {
        "trusted": true,
        "colab": {
          "base_uri": "https://localhost:8080/"
        },
        "id": "lz02OEdlcYkp",
        "outputId": "fd71c2d7-456a-4156-9d83-d7eca17c83aa"
      },
      "source": [
        "\n",
        "images = np.load('/content/drive/MyDrive/kugglDL/misis/data/images.npy')\n",
        "labels = np.load('/content/drive/MyDrive/kugglDL/misis/data/labels.npy')\n",
        "images_sub = np.load('/content/drive/MyDrive/kugglDL/misis/data/images_sub.npy')\n",
        "print(f'images: {images.shape} of type {images.dtype}')\n",
        "print(f'labels: {labels.shape} of type {labels.dtype}')\n",
        "print(f'images_sub: {images_sub.shape} of type {images_sub.dtype}')\n",
        "\n",
        "num_classes = 26 #количество классов\n",
        "img_shape = (48, 48, 3) #размер изображений"
      ],
      "execution_count": null,
      "outputs": [
        {
          "output_type": "stream",
          "text": [
            "images: (20000, 48, 48, 3) of type uint8\n",
            "labels: (20000,) of type int64\n",
            "images_sub: (50000, 48, 48, 3) of type uint8\n"
          ],
          "name": "stdout"
        }
      ]
    },
    {
      "cell_type": "markdown",
      "metadata": {
        "id": "2PvWEq1dcYkp"
      },
      "source": [
        "Посмотрим, как выглядят изображения."
      ]
    },
    {
      "cell_type": "code",
      "metadata": {
        "trusted": true,
        "id": "Uigcfa5icYkq"
      },
      "source": [
        "def label_to_letter(label):\n",
        "    return chr(ord('A') + label)\n",
        "\n",
        "def show_symbols(images, labels = None, columns = 10, **kwargs):\n",
        "    if labels is None: labels = [None] * len(images)\n",
        "    rows = (len(images) - 1) // columns + 1\n",
        "    fig = plt.figure(figsize = (25, (1.8 * 13 / columns) * rows))\n",
        "    for i, (img, label) in enumerate(zip(images, labels)):\n",
        "        ax = fig.add_subplot(rows, columns, i + 1)\n",
        "        imshow_kwargs = {'vmin': 0, 'vmax': 255}\n",
        "        imshow_kwargs.update(kwargs)\n",
        "        ax.imshow(img, **imshow_kwargs)\n",
        "        if label is not None: ax.set_title(label)\n",
        "        ax.get_xaxis().set_ticks([])\n",
        "        ax.get_yaxis().set_ticks([])\n",
        "    fig.tight_layout(pad = 0.5)\n",
        "    plt.show()\n",
        "\n",
        "display_count = 7*3\n",
        "show_symbols(\n",
        "    images[:display_count],\n",
        "    labels = [f'{label_to_letter(x)} ({x})' for x in labels[:display_count]],\n",
        "    columns = 7\n",
        ")"
      ],
      "execution_count": null,
      "outputs": []
    },
    {
      "cell_type": "markdown",
      "metadata": {
        "id": "2m8_CF89cYkr"
      },
      "source": [
        "Посмотрим, как распределены классы в обучающих данных, а также посчитаем вероятность случайного угадывания класса."
      ]
    },
    {
      "cell_type": "code",
      "metadata": {
        "trusted": true,
        "id": "2eZEfVywcYkr"
      },
      "source": [
        "import string\n",
        "plt.bar(x = list(string.ascii_uppercase), height = np.bincount(labels));\n",
        "plt.show()\n",
        "\n",
        "print(f'Вероятность случайного угадывания: {1/num_classes:.4f}')"
      ],
      "execution_count": null,
      "outputs": []
    },
    {
      "cell_type": "code",
      "metadata": {
        "id": "vPGYHWu_3wSr"
      },
      "source": [
        "# Аугментация \n",
        "datagen = keras.preprocessing.image.ImageDataGenerator(\n",
        "    rotation_range=20,\n",
        "    width_shift_range=0.15,\n",
        "    height_shift_range=0.15,\n",
        "    zoom_range = [0.8,1.2],\n",
        "    fill_mode='nearest'\n",
        ")\n",
        "\n",
        "# Параметры картинок\n",
        "img_height = 48\n",
        "img_width = 48\n",
        "channels = 3\n",
        "# Кол-во новых картинок\n",
        "NB_of_AUG = 5\n",
        "\n",
        "def image_augmentation(image, nb_of_augmentation):\n",
        "    '''\n",
        "    Создает набор картинок, созданных на основе входной\n",
        "    image : картинка для аугментации\n",
        "    nb_augmentation: кол-во картинок на выходе генератора\n",
        "    '''\n",
        "    images = []\n",
        "    image = image.reshape(1, img_height, img_width, channels)\n",
        "    i = 0\n",
        "    for x_batch in datagen.flow(image, batch_size=1):\n",
        "        images.append(x_batch)\n",
        "        i += 1\n",
        "        if i >= nb_of_augmentation:\n",
        "            break\n",
        "    return images\n",
        "\n",
        "def preprocess_data(images, targets, use_augmentation=False, nb_of_augmentation=1):\n",
        "    \"\"\"\n",
        "    images: входные изображения \n",
        "    targets: метки\n",
        "    use_augmentation: использовать аугментацию\n",
        "    \"\"\"\n",
        "    X = []\n",
        "    y = []\n",
        "    for x_, y_ in zip(images, targets):\n",
        "               \n",
        "        # Используя аугментацию\n",
        "        if use_augmentation:\n",
        "            argu_img = image_augmentation(x_, nb_of_augmentation)\n",
        "            for a in argu_img:\n",
        "                X.append(a.reshape(img_height, img_width, channels))\n",
        "                y.append(y_)\n",
        "        # Не используя аугментацию\n",
        "        else:\n",
        "            X.append(x_.reshape(img_height, img_width, channels))\n",
        "            y.append(y_)\n",
        "       \n",
        "        \n",
        "    print('Новый датасет: %i примеров\\n' % len(X))\n",
        "    return np.array(X), np.array(y).reshape(len(y),1)\n",
        "\n",
        "\n"
      ],
      "execution_count": null,
      "outputs": []
    },
    {
      "cell_type": "code",
      "metadata": {
        "colab": {
          "base_uri": "https://localhost:8080/"
        },
        "id": "gSpCYuIF42iJ",
        "outputId": "3772359d-f84b-4224-ce94-b7b088816446"
      },
      "source": [
        "images, labels = preprocess_data(\n",
        "    images , labels , \n",
        "    use_augmentation=True, \n",
        "    nb_of_augmentation=NB_of_AUG\n",
        ")\n",
        "labels.shape"
      ],
      "execution_count": null,
      "outputs": [
        {
          "output_type": "stream",
          "text": [
            "Новый датасет: 100000 примеров\n",
            "\n"
          ],
          "name": "stdout"
        },
        {
          "output_type": "execute_result",
          "data": {
            "text/plain": [
              "(100000, 1)"
            ]
          },
          "metadata": {
            "tags": []
          },
          "execution_count": 7
        }
      ]
    },
    {
      "cell_type": "code",
      "metadata": {
        "trusted": true,
        "colab": {
          "base_uri": "https://localhost:8080/"
        },
        "id": "8BEUcdpfcYkw",
        "outputId": "5eb748e5-4a81-45fa-8c39-d3ae20d22b91"
      },
      "source": [
        "# первая модель\n",
        "model = keras.Sequential([\n",
        "    keras.Input(shape = img_shape),\n",
        "    keras.layers.Conv2D(32, (3, 3), activation = 'relu'),\n",
        "    keras.layers.Conv2D(64, (3, 3), activation = 'relu'),\n",
        "    keras.layers.MaxPooling2D(),\n",
        "    keras.layers.Conv2D(64, (3, 3), activation = 'relu'),\n",
        "    keras.layers.Conv2D(128, (3, 3), activation = 'relu'),\n",
        "    keras.layers.MaxPooling2D(),\n",
        "    keras.layers.Conv2D(128, (3, 3), activation = 'relu'),\n",
        "    keras.layers.Conv2D(256, (3, 3), activation = 'relu'),\n",
        "    keras.layers.MaxPooling2D(),\n",
        "    keras.layers.Flatten(),\n",
        "    keras.layers.Dropout(0.45),\n",
        "    keras.layers.Dense(256, activation = 'relu'),\n",
        "    keras.layers.Dense(num_classes, activation = 'softmax')\n",
        "])\n",
        "\n",
        "model.compile(\n",
        "    loss = 'sparse_categorical_crossentropy',\n",
        "    optimizer = keras.optimizers.Adam(1e-4),\n",
        "    metrics = 'accuracy'\n",
        ")"
      ],
      "execution_count": null,
      "outputs": [
        {
          "output_type": "stream",
          "text": [
            "WARNING:tensorflow:Please add `keras.layers.InputLayer` instead of `keras.Input` to Sequential model. `keras.Input` is intended to be used by Functional model.\n"
          ],
          "name": "stdout"
        }
      ]
    },
    {
      "cell_type": "code",
      "metadata": {
        "trusted": true,
        "colab": {
          "base_uri": "https://localhost:8080/",
          "height": 265
        },
        "id": "ek5v7MvicYky",
        "outputId": "3a054a26-5f1c-45c8-9c90-b8801e0c6c9c"
      },
      "source": [
        "images_normalized = images/255.\n",
        "for epoch in range(20):\n",
        "    history = model.fit(\n",
        "        images_normalized, labels,\n",
        "        batch_size = 16,\n",
        "        validation_split = 0.15,\n",
        "        epochs = 1,\n",
        "        callbacks = ([model.history] if epoch > 0 else None)\n",
        "    )\n",
        "    clear_output(wait = True)\n",
        "    plt.plot(history.history['accuracy'], label = 'accuracy')\n",
        "    plt.plot(history.history['val_accuracy'], label = 'val_accuracy')\n",
        "    plt.legend()\n",
        "    plt.show()"
      ],
      "execution_count": null,
      "outputs": [
        {
          "output_type": "display_data",
          "data": {
            "image/png": "[encoded data removed]",
            "text/plain": [
              "<Figure size 432x288 with 1 Axes>"
            ]
          },
          "metadata": {
            "tags": [],
            "needs_background": "light"
          }
        }
      ]
    },
    {
      "cell_type": "code",
      "metadata": {
        "colab": {
          "base_uri": "https://localhost:8080/"
        },
        "id": "nYPshwI3NOPm",
        "outputId": "3645c180-f6fe-4c4d-ef8e-b4b460d6c5b2"
      },
      "source": [
        "predictions = model.predict(images_sub / 255.).argmax(axis = 1)\n",
        "print(predictions.shape)\n",
        "print(predictions[:10]) # посмотрим первые 10 предсказаний"
      ],
      "execution_count": null,
      "outputs": [
        {
          "output_type": "stream",
          "text": [
            "(50000,)\n",
            "[19 19 14 12 10  7  5 17 23 22]\n"
          ],
          "name": "stdout"
        }
      ]
    },
    {
      "cell_type": "markdown",
      "metadata": {
        "id": "qnjQRFx_cYk0"
      },
      "source": [
        "Теперь мы имеем массив из 50 тысяч предсказаний. Создаем файл submission.csv. Название файла не обязательно должно быть именно таким, главное - записать в него данные в нужном формате."
      ]
    },
    {
      "cell_type": "code",
      "metadata": {
        "trusted": true,
        "id": "D-lzeV7acYk0"
      },
      "source": [
        "import pandas as pd\n",
        "submission = pd.DataFrame()\n",
        "submission['Id'] = list(range(len(predictions)))\n",
        "submission['Category'] = predictions\n",
        "submission.to_csv('/content/drive/MyDrive/kugglDL/misis/submission3.csv', index = False)"
      ],
      "execution_count": null,
      "outputs": []
    },
    {
      "cell_type": "code",
      "metadata": {
        "id": "-GM50cj3I1sU"
      },
      "source": [
        "\n",
        "\n",
        "images = np.load('/content/drive/MyDrive/kugglDL/misis/data/images.npy') / 255\n",
        "labels = np.load('/content/drive/MyDrive/kugglDL/misis/data/labels.npy')\n",
        "images_sub = np.load('/content/drive/MyDrive/kugglDL/misis/data/images_sub.npy') / 255"
      ],
      "execution_count": null,
      "outputs": []
    },
    {
      "cell_type": "code",
      "metadata": {
        "id": "4zZ4L-UZJB3M"
      },
      "source": [
        "images= images/250.\n",
        "BATCH_SIZE =12"
      ],
      "execution_count": null,
      "outputs": []
    },
    {
      "cell_type": "code",
      "metadata": {
        "id": "2JUyFrJH2nD-"
      },
      "source": [
        "# Импортируем библиотеки \n",
        "import pandas as pd\n",
        "import numpy as np\n",
        "import tensorflow as tf\n",
        "import matplotlib.pyplot as plt\n",
        "import tensorflow.keras as keras\n",
        "from IPython.display import clear_output\n",
        "from sklearn.model_selection import train_test_split\n"
      ],
      "execution_count": null,
      "outputs": []
    },
    {
      "cell_type": "markdown",
      "metadata": {
        "id": "qd8ceqQ8cYk1"
      },
      "source": [
        "В последней ячейке покажем минималистичный пример полного цикла: загрузка данных, построение модели, обучение и сабмит."
      ]
    },
    {
      "cell_type": "code",
      "metadata": {
        "colab": {
          "base_uri": "https://localhost:8080/",
          "height": 231
        },
        "id": "UCRkJKHbcYk1",
        "outputId": "0e6df070-7079-46b7-8f15-639e7ecea9a4"
      },
      "source": [
        "\n",
        "K.clear_session()\n",
        "model = keras.Sequential()\n",
        "model.add( keras.layers.Input(shape = (48,48,3)))\n",
        "\n",
        "model.add(keras.layers.BatchNormalization())\n",
        "\n",
        "model.add(keras.layers.Conv2D(16, (3, 3), activation='relu'))\n",
        "model.add(keras.layers.Conv2D(32, (3, 3), activation='relu'))\n",
        "\n",
        "model.add(keras.layers.MaxPooling2D(pool_size=(2, 2)))\n",
        "\n",
        "model.add(keras.layers.Dropout(0.30))\n",
        "\n",
        "model.add(keras.layers.Conv2D(128, (3, 3), activation='relu'))\n",
        "\n",
        "model.add(keras.layers.Conv2D(256, (3, 3), activation='relu'))\n",
        "\n",
        "model.add(keras.layers.MaxPooling2D(pool_size=(2, 2)))\n",
        "\n",
        "model.add(keras.layers.Dropout(0.30))\n",
        "\n",
        "model.add(keras.layers.Flatten())\n",
        "\n",
        "model.add(keras.layers.Dense(256, activation='relu'))\n",
        "\n",
        "model.add(keras.layers.Dropout(0.4))\n",
        "   \n",
        "model.add(keras.layers.Dense(26, activation = 'softmax'))\n",
        "model.summary()\n",
        "\n",
        "model.compile(loss = 'sparse_categorical_crossentropy', optimizer = 'adam', metrics = 'accuracy')\n",
        "model.fit(images, labels, batch_size= BATCH_SIZE, validation_split = 0.1, epochs = 40)\n",
        "\n"
      ],
      "execution_count": null,
      "outputs": [
        {
          "output_type": "error",
          "ename": "NameError",
          "evalue": "ignored",
          "traceback": [
            "\u001b[0;31m---------------------------------------------------------------------------\u001b[0m",
            "\u001b[0;31mNameError\u001b[0m                                 Traceback (most recent call last)",
            "\u001b[0;32m<ipython-input-1-b070d7a0a973>\u001b[0m in \u001b[0;36m<module>\u001b[0;34m()\u001b[0m\n\u001b[1;32m      1\u001b[0m \u001b[0;34m\u001b[0m\u001b[0m\n\u001b[0;32m----> 2\u001b[0;31m \u001b[0mK\u001b[0m\u001b[0;34m.\u001b[0m\u001b[0mclear_session\u001b[0m\u001b[0;34m(\u001b[0m\u001b[0;34m)\u001b[0m\u001b[0;34m\u001b[0m\u001b[0;34m\u001b[0m\u001b[0m\n\u001b[0m\u001b[1;32m      3\u001b[0m \u001b[0mmodel\u001b[0m \u001b[0;34m=\u001b[0m \u001b[0mkeras\u001b[0m\u001b[0;34m.\u001b[0m\u001b[0mSequential\u001b[0m\u001b[0;34m(\u001b[0m\u001b[0;34m)\u001b[0m\u001b[0;34m\u001b[0m\u001b[0;34m\u001b[0m\u001b[0m\n\u001b[1;32m      4\u001b[0m \u001b[0mmodel\u001b[0m\u001b[0;34m.\u001b[0m\u001b[0madd\u001b[0m\u001b[0;34m(\u001b[0m \u001b[0mkeras\u001b[0m\u001b[0;34m.\u001b[0m\u001b[0mlayers\u001b[0m\u001b[0;34m.\u001b[0m\u001b[0mInput\u001b[0m\u001b[0;34m(\u001b[0m\u001b[0mshape\u001b[0m \u001b[0;34m=\u001b[0m \u001b[0;34m(\u001b[0m\u001b[0;36m48\u001b[0m\u001b[0;34m,\u001b[0m\u001b[0;36m48\u001b[0m\u001b[0;34m,\u001b[0m\u001b[0;36m3\u001b[0m\u001b[0;34m)\u001b[0m\u001b[0;34m)\u001b[0m\u001b[0;34m)\u001b[0m\u001b[0;34m\u001b[0m\u001b[0;34m\u001b[0m\u001b[0m\n\u001b[1;32m      5\u001b[0m \u001b[0;34m\u001b[0m\u001b[0m\n",
            "\u001b[0;31mNameError\u001b[0m: name 'K' is not defined"
          ]
        }
      ]
    },
    {
      "cell_type": "code",
      "metadata": {
        "trusted": true,
        "colab": {
          "base_uri": "https://localhost:8080/"
        },
        "id": "8X9TrR3VcYks",
        "outputId": "d1fb95f7-f046-4138-f701-04b55f43c338"
      },
      "source": [
        "\n",
        "images_sub_normalized = images_sub / 255. \n",
        "images_sub_normalized.shape"
      ],
      "execution_count": null,
      "outputs": [
        {
          "output_type": "execute_result",
          "data": {
            "text/plain": [
              "(50000, 48, 48, 3)"
            ]
          },
          "metadata": {
            "tags": []
          },
          "execution_count": 6
        }
      ]
    },
    {
      "cell_type": "code",
      "metadata": {
        "colab": {
          "base_uri": "https://localhost:8080/"
        },
        "id": "CxhjFwndJ2HZ",
        "outputId": "ca5a2ff9-7ec7-4e40-d0e9-6fb65cebecfa"
      },
      "source": [
        "predictions = model.predict(images_sub).argmax(axis = 1)\n",
        "print(predictions.shape)\n",
        "print(predictions[:10]) # посмотрим первые 10 предсказаний"
      ],
      "execution_count": null,
      "outputs": [
        {
          "output_type": "stream",
          "text": [
            "(50000,)\n",
            "[17  8  1 12 10  7  5 17 23 22]\n"
          ],
          "name": "stdout"
        }
      ]
    },
    {
      "cell_type": "code",
      "metadata": {
        "id": "fLT10JpOQkHs"
      },
      "source": [
        "submission = pd.DataFrame({'Id': list(range(len(predictions))), 'Category': predictions})\n",
        "submission.to_csv('/content/drive/MyDrive/kugglDL/misis/submission1.csv', index = False)"
      ],
      "execution_count": null,
      "outputs": []
    },
    {
      "cell_type": "code",
      "metadata": {
        "scrolled": true,
        "id": "EgTVCESyLGdf",
        "colab": {
          "base_uri": "https://localhost:8080/"
        },
        "outputId": "fe6dd5ef-70f4-471c-b1e0-f64898fc9299"
      },
      "source": [
        "\n",
        "model.fit(\n",
        "    x=images,\n",
        "    y=labels,\n",
        "    batch_size=32,\n",
        "    epochs=30,\n",
        "    verbose=1,\n",
        "    callbacks=None, #коллбеки, позволяют управлять поведением модели на каждой эпохе\n",
        "    validation_split=0.1, #\n",
        "    shuffle=True,#перемешивать ли выборку или нет\n",
        "    class_weight=None, \n",
        "    sample_weight=None,\n",
        "    initial_epoch=0,\n",
        "    steps_per_epoch=None,\n",
        "    validation_steps=None,\n",
        "    validation_batch_size=None,\n",
        "    validation_freq=1,\n",
        "    max_queue_size=10,\n",
        "    workers=-1,\n",
        "    use_multiprocessing=True,\n",
        ")"
      ],
      "execution_count": null,
      "outputs": [
        {
          "output_type": "stream",
          "text": [
            "Epoch 1/30\n",
            "563/563 [==============================] - 169s 298ms/step - loss: 0.5038 - accuracy: 0.8356 - val_loss: 0.5405 - val_accuracy: 0.8420\n",
            "Epoch 2/30\n",
            "563/563 [==============================] - 166s 295ms/step - loss: 0.4499 - accuracy: 0.8519 - val_loss: 0.5434 - val_accuracy: 0.8385\n",
            "Epoch 3/30\n",
            "563/563 [==============================] - 168s 298ms/step - loss: 0.4491 - accuracy: 0.8515 - val_loss: 0.5476 - val_accuracy: 0.8425\n",
            "Epoch 4/30\n",
            "563/563 [==============================] - 166s 295ms/step - loss: 0.4366 - accuracy: 0.8576 - val_loss: 0.5483 - val_accuracy: 0.8410\n",
            "Epoch 5/30\n",
            "563/563 [==============================] - 163s 290ms/step - loss: 0.4289 - accuracy: 0.8553 - val_loss: 0.5458 - val_accuracy: 0.8425\n",
            "Epoch 6/30\n",
            "563/563 [==============================] - 167s 296ms/step - loss: 0.4106 - accuracy: 0.8665 - val_loss: 0.5422 - val_accuracy: 0.8455\n",
            "Epoch 7/30\n",
            "563/563 [==============================] - 165s 294ms/step - loss: 0.3975 - accuracy: 0.8704 - val_loss: 0.5562 - val_accuracy: 0.8490\n",
            "Epoch 8/30\n",
            "563/563 [==============================] - 159s 282ms/step - loss: 0.4078 - accuracy: 0.8647 - val_loss: 0.5349 - val_accuracy: 0.8510\n",
            "Epoch 9/30\n",
            "563/563 [==============================] - 164s 291ms/step - loss: 0.3909 - accuracy: 0.8713 - val_loss: 0.5661 - val_accuracy: 0.8430\n",
            "Epoch 10/30\n",
            "563/563 [==============================] - 161s 286ms/step - loss: 0.3878 - accuracy: 0.8731 - val_loss: 0.5513 - val_accuracy: 0.8460\n",
            "Epoch 11/30\n",
            "563/563 [==============================] - 161s 286ms/step - loss: 0.3838 - accuracy: 0.8711 - val_loss: 0.5622 - val_accuracy: 0.8470\n",
            "Epoch 12/30\n",
            "563/563 [==============================] - 163s 290ms/step - loss: 0.3707 - accuracy: 0.8781 - val_loss: 0.5349 - val_accuracy: 0.8490\n",
            "Epoch 13/30\n",
            "563/563 [==============================] - 167s 296ms/step - loss: 0.3743 - accuracy: 0.8762 - val_loss: 0.5702 - val_accuracy: 0.8430\n",
            "Epoch 14/30\n",
            "563/563 [==============================] - 167s 297ms/step - loss: 0.3536 - accuracy: 0.8847 - val_loss: 0.5332 - val_accuracy: 0.8510\n",
            "Epoch 15/30\n",
            "563/563 [==============================] - 167s 296ms/step - loss: 0.3542 - accuracy: 0.8849 - val_loss: 0.5463 - val_accuracy: 0.8515\n",
            "Epoch 16/30\n",
            "563/563 [==============================] - 166s 294ms/step - loss: 0.3341 - accuracy: 0.8897 - val_loss: 0.5526 - val_accuracy: 0.8500\n",
            "Epoch 17/30\n",
            "563/563 [==============================] - 168s 298ms/step - loss: 0.3449 - accuracy: 0.8859 - val_loss: 0.5498 - val_accuracy: 0.8490\n",
            "Epoch 18/30\n",
            "563/563 [==============================] - 171s 304ms/step - loss: 0.3430 - accuracy: 0.8899 - val_loss: 0.5462 - val_accuracy: 0.8470\n",
            "Epoch 19/30\n",
            "563/563 [==============================] - 168s 298ms/step - loss: 0.3267 - accuracy: 0.8938 - val_loss: 0.5647 - val_accuracy: 0.8470\n",
            "Epoch 20/30\n",
            "563/563 [==============================] - 166s 295ms/step - loss: 0.3122 - accuracy: 0.8964 - val_loss: 0.5713 - val_accuracy: 0.8525\n",
            "Epoch 21/30\n",
            "563/563 [==============================] - 167s 297ms/step - loss: 0.3225 - accuracy: 0.8959 - val_loss: 0.5749 - val_accuracy: 0.8455\n",
            "Epoch 22/30\n",
            "563/563 [==============================] - 167s 296ms/step - loss: 0.3123 - accuracy: 0.8980 - val_loss: 0.6022 - val_accuracy: 0.8490\n",
            "Epoch 23/30\n",
            "563/563 [==============================] - 169s 300ms/step - loss: 0.3025 - accuracy: 0.9022 - val_loss: 0.5885 - val_accuracy: 0.8560\n",
            "Epoch 24/30\n",
            "563/563 [==============================] - 166s 296ms/step - loss: 0.3025 - accuracy: 0.9011 - val_loss: 0.6061 - val_accuracy: 0.8460\n",
            "Epoch 25/30\n",
            "563/563 [==============================] - 168s 299ms/step - loss: 0.3020 - accuracy: 0.9029 - val_loss: 0.5945 - val_accuracy: 0.8500\n",
            "Epoch 26/30\n",
            "563/563 [==============================] - 166s 295ms/step - loss: 0.2858 - accuracy: 0.9051 - val_loss: 0.5852 - val_accuracy: 0.8560\n",
            "Epoch 27/30\n",
            "563/563 [==============================] - 165s 293ms/step - loss: 0.2981 - accuracy: 0.9022 - val_loss: 0.5792 - val_accuracy: 0.8550\n",
            "Epoch 28/30\n",
            "563/563 [==============================] - 166s 294ms/step - loss: 0.2837 - accuracy: 0.9068 - val_loss: 0.6009 - val_accuracy: 0.8520\n",
            "Epoch 29/30\n",
            "563/563 [==============================] - 161s 285ms/step - loss: 0.2830 - accuracy: 0.9095 - val_loss: 0.6608 - val_accuracy: 0.8430\n",
            "Epoch 30/30\n",
            "563/563 [==============================] - 161s 286ms/step - loss: 0.2849 - accuracy: 0.9084 - val_loss: 0.6452 - val_accuracy: 0.8385\n"
          ],
          "name": "stdout"
        },
        {
          "output_type": "execute_result",
          "data": {
            "text/plain": [
              "<keras.callbacks.History at 0x7f48e972aa10>"
            ]
          },
          "metadata": {
            "tags": []
          },
          "execution_count": 5
        }
      ]
    },
    {
      "cell_type": "code",
      "metadata": {
        "colab": {
          "base_uri": "https://localhost:8080/"
        },
        "id": "njzx9jMJQUNZ",
        "outputId": "05037f8b-a68c-49bc-e802-04c763e73a7e"
      },
      "source": [
        "predictions = model.predict(images_sub).argmax(axis = 1)\n",
        "print(predictions.shape)\n",
        "print(predictions[:10]) # посмотрим первые 10 предсказаний"
      ],
      "execution_count": null,
      "outputs": [
        {
          "output_type": "stream",
          "text": [
            "(50000,)\n",
            "[19 11 16 12 10  7  5 17 23 22]\n"
          ],
          "name": "stdout"
        }
      ]
    },
    {
      "cell_type": "code",
      "metadata": {
        "id": "Om4bAF6ILJP5"
      },
      "source": [
        "\n",
        "submission = pd.DataFrame({'Id': list(range(len(predictions))), 'Category': predictions})\n",
        "submission.to_csv('/content/drive/MyDrive/kugglDL/misis/submission2.csv', index = False)"
      ],
      "execution_count": null,
      "outputs": []
    },
    {
      "cell_type": "code",
      "metadata": {
        "id": "tuZ65WvHLBxz"
      },
      "source": [
        "\n",
        "submission = pd.DataFrame()\n",
        "submission['Id'] = list(range(len(predictions)))\n",
        "submission['Category'] = predictions\n",
        "submission.to_csv('/content/drive/MyDrive/kugglDL/misis/submission1.csv', index = False)"
      ],
      "execution_count": null,
      "outputs": []
    }
  ]
}