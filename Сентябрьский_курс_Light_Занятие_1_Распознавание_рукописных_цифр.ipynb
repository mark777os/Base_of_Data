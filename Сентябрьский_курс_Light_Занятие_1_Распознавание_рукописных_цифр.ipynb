{
  "nbformat": 4,
  "nbformat_minor": 0,
  "metadata": {
    "colab": {
      "name": "Сентябрьский курс. Light. Занятие 1. Распознавание рукописных цифр",
      "provenance": [],
      "collapsed_sections": [
        "8OsyUFVULEkG"
      ],
      "toc_visible": true,
      "include_colab_link": true
    },
    "kernelspec": {
      "name": "python3",
      "display_name": "Python 3"
    },
    "accelerator": "GPU"
  },
  "cells": [
    {
      "cell_type": "markdown",
      "metadata": {
        "id": "view-in-github",
        "colab_type": "text"
      },
      "source": [
        "<a href=\"https://colab.research.google.com/github/mark777os/Base_of_Data/blob/master/%D0%A1%D0%B5%D0%BD%D1%82%D1%8F%D0%B1%D1%80%D1%8C%D1%81%D0%BA%D0%B8%D0%B9_%D0%BA%D1%83%D1%80%D1%81_Light_%D0%97%D0%B0%D0%BD%D1%8F%D1%82%D0%B8%D0%B5_1_%D0%A0%D0%B0%D1%81%D0%BF%D0%BE%D0%B7%D0%BD%D0%B0%D0%B2%D0%B0%D0%BD%D0%B8%D0%B5_%D1%80%D1%83%D0%BA%D0%BE%D0%BF%D0%B8%D1%81%D0%BD%D1%8B%D1%85_%D1%86%D0%B8%D1%84%D1%80.ipynb\" target=\"_parent\"><img src=\"https://colab.research.google.com/assets/colab-badge.svg\" alt=\"Open In Colab\"/></a>"
      ]
    },
    {
      "cell_type": "markdown",
      "metadata": {
        "id": "Ah7dy1kFL2H9",
        "colab_type": "text"
      },
      "source": [
        "# Распознавание рукописных цифр из набора данных MNIST с помощью Keras\n",
        "\n",
        "Чтобы запускать и редактировать код, сохраните копию этого ноутбука себе (File->Save a copy in Drive...). Свою копию вы сможете изменять и запускать."
      ]
    },
    {
      "cell_type": "code",
      "metadata": {
        "id": "qrfd6FzSLrE2",
        "colab_type": "code",
        "colab": {}
      },
      "source": [
        "from tensorflow.keras.datasets import mnist #Библиотека с базой Mnist\n",
        "from tensorflow.keras.models import Sequential #НС прямого распространения\n",
        "from tensorflow.keras.layers import Dense #Полносвязные слой\n",
        "from tensorflow.keras import utils #Утилиты для to_categorical\n",
        "from tensorflow.keras.preprocessing import image #Для отрисовки изображения\n",
        "from google.colab import files #Для загрузки своей картинки\n",
        "import numpy as np #Библиотека работы с массивами\n",
        "import matplotlib.pyplot as plt #Отрисовка изображений\n",
        "from PIL import Image #Отрисовка изображений\n",
        "#Отрисовывать изображения в ноутбуке, а не в консоль или файл\n",
        "%matplotlib inline "
      ],
      "execution_count": 0,
      "outputs": []
    },
    {
      "cell_type": "markdown",
      "metadata": {
        "id": "xiurjCBVMDTG",
        "colab_type": "text"
      },
      "source": [
        "## Подготовка данных для обучения сети"
      ]
    },
    {
      "cell_type": "markdown",
      "metadata": {
        "id": "1yDF75Cx8VPz",
        "colab_type": "text"
      },
      "source": [
        "**Загружаем набор данных с рукописными цифрами**"
      ]
    },
    {
      "cell_type": "code",
      "metadata": {
        "id": "E5L3LUIi8PDV",
        "colab_type": "code",
        "outputId": "4d81609e-0580-4295-ba49-6d3f7d47a49c",
        "colab": {
          "base_uri": "https://localhost:8080/",
          "height": 54
        }
      },
      "source": [
        "#Загрузка данных Mnist\n",
        "#x_train_org - входные картинки, обучающая выбрка\n",
        "#y_train_org - выходные индексы, обучающая выборка\n",
        "#x_test_org - входные картинки, тестовая выбрка\n",
        "#y_test_org - выходные индексы, тестовая выборка\n",
        "(x_train_org, y_train_org), (x_test_org, y_test_org) = mnist.load_data()"
      ],
      "execution_count": 0,
      "outputs": [
        {
          "output_type": "stream",
          "text": [
            "Downloading data from https://storage.googleapis.com/tensorflow/tf-keras-datasets/mnist.npz\n",
            "11493376/11490434 [==============================] - 0s 0us/step\n"
          ],
          "name": "stdout"
        }
      ]
    },
    {
      "cell_type": "code",
      "metadata": {
        "id": "ga0DtPJQVkEh",
        "colab_type": "code",
        "outputId": "190094b7-fef9-47b6-f39d-289ca9a63b74",
        "colab": {
          "base_uri": "https://localhost:8080/",
          "height": 269
        }
      },
      "source": [
        "n = 188 #Номер картинки\n",
        "\n",
        "#Отрисовка картинки\n",
        "#Image.fromarray - создание картинки по массиву\n",
        "#.convert('RGBA') - преобразование в RGBA формат\n",
        "plt.imshow(Image.fromarray(x_train_org[n]).convert('RGBA'))\n",
        "plt.show()"
      ],
      "execution_count": 0,
      "outputs": [
        {
          "output_type": "display_data",
          "data": {
            "image/png": "[encoded data removed]",
            "text/plain": [
              "<Figure size 432x288 with 1 Axes>"
            ]
          },
          "metadata": {
            "tags": []
          }
        }
      ]
    },
    {
      "cell_type": "markdown",
      "metadata": {
        "id": "7uXTnIojJLbl",
        "colab_type": "text"
      },
      "source": [
        "**Преобразование размерности данных в наборе**"
      ]
    },
    {
      "cell_type": "code",
      "metadata": {
        "id": "GBAqLKjGJJ-V",
        "colab_type": "code",
        "colab": {}
      },
      "source": [
        "#Меняем формат входных картинок с 28х28 на 784х1\n",
        "#Это нужно для удобства работы с полносвязным слоем (Dense)\n",
        "#С двумерной картинкой мы будем работать в будущем с помощью свёрточных сетей\n",
        "#Функция .reshape меняет размер массива\n",
        "x_train = x_train_org.reshape(60000, 784)\n",
        "x_test = x_test_org.reshape(10000, 784)"
      ],
      "execution_count": 0,
      "outputs": []
    },
    {
      "cell_type": "markdown",
      "metadata": {
        "id": "hDaHO5LgJYxU",
        "colab_type": "text"
      },
      "source": [
        "**Нормализация данных**"
      ]
    },
    {
      "cell_type": "code",
      "metadata": {
        "id": "rscaAuBNJdq9",
        "colab_type": "code",
        "colab": {}
      },
      "source": [
        "#Нормализуем входные картинки\n",
        "#НС лучше работают, если данные нормаваны от 0 до 1\n",
        "#Сейчас значения во входных картинках от 0 до 255\n",
        "#Надо разделить картинки на 255\n",
        "#И сначала преобразовать картинки в тип float (цифры с плавающей точкой)\n",
        "x_train = x_train.astype('float32')\n",
        "x_train = x_train / 255\n",
        "x_test = x_test.astype('float32')\n",
        "x_test = x_test / 255 "
      ],
      "execution_count": 0,
      "outputs": []
    },
    {
      "cell_type": "markdown",
      "metadata": {
        "id": "KRcMlNzqJk1t",
        "colab_type": "text"
      },
      "source": [
        "**Работа с правильными ответами**"
      ]
    },
    {
      "cell_type": "code",
      "metadata": {
        "id": "A5lKe_syJqPu",
        "colab_type": "code",
        "outputId": "3be1a267-d5dc-4019-b919-e7acd884e4e1",
        "colab": {
          "base_uri": "https://localhost:8080/",
          "height": 35
        }
      },
      "source": [
        "#Выводим пример индекса в выходных данных\n",
        "print(y_train_org[n])"
      ],
      "execution_count": 0,
      "outputs": [
        {
          "output_type": "stream",
          "text": [
            "8\n"
          ],
          "name": "stdout"
        }
      ]
    },
    {
      "cell_type": "markdown",
      "metadata": {
        "id": "zqJ9GA1kJxBF",
        "colab_type": "text"
      },
      "source": [
        "**Преобразуем метки в формат one hot encoding**"
      ]
    },
    {
      "cell_type": "code",
      "metadata": {
        "id": "zQnasUyyJ3cG",
        "colab_type": "code",
        "colab": {}
      },
      "source": [
        "#НС сложно работать с чистыми индексами от 0 до 9\n",
        "#Ей проще работать с данными в формате one hot encoding\n",
        "#Это формат из 10 цифр - все 0 и одна 1 там, где правильный ответ\n",
        "#Например\n",
        "#Индекс 0 - это [1 0 0 0 0 0 0 0 0 0]\n",
        "#Индекс 2 - это [0 0 1 0 0 0 0 0 0 0]\n",
        "#Индекс 9 - это [0 0 0 0 0 0 0 0 0 1]\n",
        "#Это делается функцией utils.to_categorical(\n",
        "#Второй параметр - это количество классов, у нас - 10\n",
        "y_train = utils.to_categorical(y_train_org, 10)\n",
        "y_test = utils.to_categorical(y_test_org, 10)"
      ],
      "execution_count": 0,
      "outputs": []
    },
    {
      "cell_type": "markdown",
      "metadata": {
        "id": "KfuqlyjHJ_ye",
        "colab_type": "text"
      },
      "source": [
        "**Правильный ответ в формате one hot encoding**"
      ]
    },
    {
      "cell_type": "code",
      "metadata": {
        "id": "9zUfd1aeKH3e",
        "colab_type": "code",
        "outputId": "65d48e5d-cfd8-442d-ad45-6374ba6c6cb8",
        "colab": {
          "base_uri": "https://localhost:8080/",
          "height": 35
        }
      },
      "source": [
        "#Выводим размер y_train\n",
        "#60 тысяч примеров, каждый размера 10 (так как 10 классов)\n",
        "print(y_train.shape)"
      ],
      "execution_count": 0,
      "outputs": [
        {
          "output_type": "stream",
          "text": [
            "(60000, 10)\n"
          ],
          "name": "stdout"
        }
      ]
    },
    {
      "cell_type": "code",
      "metadata": {
        "id": "KWYwnS5giydM",
        "colab_type": "code",
        "outputId": "252b02b1-a63e-49b8-9c50-40d82ad5d0db",
        "colab": {
          "base_uri": "https://localhost:8080/",
          "height": 35
        }
      },
      "source": [
        "#Выводим пример одного выходного вектора\n",
        "print(y_train[n])"
      ],
      "execution_count": 0,
      "outputs": [
        {
          "output_type": "stream",
          "text": [
            "[0. 0. 0. 0. 0. 0. 0. 0. 1. 0.]\n"
          ],
          "name": "stdout"
        }
      ]
    },
    {
      "cell_type": "markdown",
      "metadata": {
        "id": "BmTr_lXTKNbN",
        "colab_type": "text"
      },
      "source": [
        "## Создаем нейронную сеть"
      ]
    },
    {
      "cell_type": "markdown",
      "metadata": {
        "id": "fV_igNZuMNXe",
        "colab_type": "text"
      },
      "source": [
        "**Создаем последовательную модель**"
      ]
    },
    {
      "cell_type": "code",
      "metadata": {
        "id": "D-jPYYxIKQkt",
        "colab_type": "code",
        "colab": {}
      },
      "source": [
        "#Создаём сеть прямого распространения\n",
        "#Пока она пустая\n",
        "#Подробнее на https://keras.io/models/sequential/\n",
        "model = Sequential()"
      ],
      "execution_count": 0,
      "outputs": []
    },
    {
      "cell_type": "markdown",
      "metadata": {
        "id": "Q3QzIVtBMQRG",
        "colab_type": "text"
      },
      "source": [
        "**Добавляем уровни сети**\n"
      ]
    },
    {
      "cell_type": "code",
      "metadata": {
        "id": "kYVSvpNIMSnG",
        "colab_type": "code",
        "outputId": "0a7fd729-3a66-4b3a-f695-c7d639296d62",
        "colab": {
          "base_uri": "https://localhost:8080/",
          "height": 92
        }
      },
      "source": [
        "#Добавляем в сеть полносвязные слои\n",
        "#Dense - полносвязный слой, подробнее на https://keras.io/layers/core/\n",
        "#Первый парамерт - количество нейронок, обычно от 2 до 2000, подбирается в ходе исследования\n",
        "#input_dim - размер входного вектора, указывается только в первом слое сети\n",
        "#activation - активационная функция нейронов данного слоя\n",
        "#relu - одна из активационных функций, подробнее на https://keras.io/activations/\n",
        "model.add(Dense(800, input_dim=784, activation=\"relu\"))\n",
        "model.add(Dense(400, activation=\"relu\"))\n",
        "\n",
        "#Выходной полносвязный слой, 10 нейронов (по количеству рукописных цифр)\n",
        "#activation=\"softmax\" - активационная функция, \n",
        "#которая делает сумму всех значений нейронов слой, равной 1\n",
        "#Подробнее https://keras.io/activations/\n",
        "model.add(Dense(10, activation=\"softmax\"))"
      ],
      "execution_count": 0,
      "outputs": [
        {
          "output_type": "stream",
          "text": [
            "WARNING:tensorflow:From /usr/local/lib/python3.6/dist-packages/tensorflow/python/ops/init_ops.py:1251: calling VarianceScaling.__init__ (from tensorflow.python.ops.init_ops) with dtype is deprecated and will be removed in a future version.\n",
            "Instructions for updating:\n",
            "Call initializer instance with the dtype argument instead of passing it to the constructor\n"
          ],
          "name": "stdout"
        }
      ]
    },
    {
      "cell_type": "markdown",
      "metadata": {
        "id": "G__m76T-KWhd",
        "colab_type": "text"
      },
      "source": [
        "**Компилируем сеть**"
      ]
    },
    {
      "cell_type": "code",
      "metadata": {
        "id": "PTcbSxchKZjd",
        "colab_type": "code",
        "outputId": "3311c569-752f-4887-eed5-b878d0a0a9e1",
        "colab": {
          "base_uri": "https://localhost:8080/",
          "height": 294
        }
      },
      "source": [
        "#Нейронку надо \"скомпилировать\"\n",
        "#При компиляции мы задаём несколько параметров\n",
        "#loss - функция ошибки, которую оптимизирует сеть\n",
        "#categorical_crossentropy - одна из функций ошибки, подходящая для классификации нескольких классов, подробнее https://keras.io/activations/\n",
        "#optimizer - алгоритм обучения НС\n",
        "#adam - один из алгоритмов обучения НС, подробнее https://keras.io/optimizers/\n",
        "#metrics - метрика качества обучения, измеряется после каждой эпохи обучения\n",
        "#accuracy - метрика, процент правильно распознанных примеров, подробнее https://keras.io/metrics/\n",
        "model.compile(loss=\"categorical_crossentropy\", optimizer=\"adam\", metrics=[\"accuracy\"])\n",
        "\n",
        "#Вывод структуры нейронки\n",
        "print(model.summary())"
      ],
      "execution_count": 0,
      "outputs": [
        {
          "output_type": "stream",
          "text": [
            "Model: \"sequential\"\n",
            "_________________________________________________________________\n",
            "Layer (type)                 Output Shape              Param #   \n",
            "=================================================================\n",
            "dense (Dense)                (None, 800)               628000    \n",
            "_________________________________________________________________\n",
            "dense_1 (Dense)              (None, 400)               320400    \n",
            "_________________________________________________________________\n",
            "dense_2 (Dense)              (None, 10)                4010      \n",
            "=================================================================\n",
            "Total params: 952,410\n",
            "Trainable params: 952,410\n",
            "Non-trainable params: 0\n",
            "_________________________________________________________________\n",
            "None\n"
          ],
          "name": "stdout"
        }
      ]
    },
    {
      "cell_type": "markdown",
      "metadata": {
        "id": "lspCHiaCKl72",
        "colab_type": "text"
      },
      "source": [
        "## Обучаем нейронную сеть"
      ]
    },
    {
      "cell_type": "code",
      "metadata": {
        "id": "H6EIXu1dKoju",
        "colab_type": "code",
        "outputId": "3a524fc5-261f-4974-c328-802af04503eb",
        "colab": {
          "base_uri": "https://localhost:8080/",
          "height": 813
        }
      },
      "source": [
        "#fit - функция обучения нейронки\n",
        "#x_train, y_train - обучающая выборка, входные и выходные данные\n",
        "#batch_size - размер батча, количество примеров, которое обрабатывает нейронка, перед одним изменением весов\n",
        "#epochs - количество эпох, когда нейронка обучается на всех примерах выбрки\n",
        "#verbose - 0 - не визуализировать ход обучения, 1 - визуализировать\n",
        "#validation_split - процент данных, на которых сеть не обучается, на которых мы измеряем точность распознавания\n",
        "model.fit(x_train, y_train, batch_size=200, epochs=20,  verbose=1, validation_split=0.2)"
      ],
      "execution_count": 0,
      "outputs": [
        {
          "output_type": "stream",
          "text": [
            "Train on 48000 samples, validate on 12000 samples\n",
            "Epoch 1/20\n",
            "48000/48000 [==============================] - 2s 47us/sample - loss: 0.2610 - acc: 0.9224 - val_loss: 0.1360 - val_acc: 0.9587\n",
            "Epoch 2/20\n",
            "48000/48000 [==============================] - 2s 32us/sample - loss: 0.0878 - acc: 0.9734 - val_loss: 0.0842 - val_acc: 0.9744\n",
            "Epoch 3/20\n",
            "48000/48000 [==============================] - 2s 31us/sample - loss: 0.0569 - acc: 0.9823 - val_loss: 0.0829 - val_acc: 0.9753\n",
            "Epoch 4/20\n",
            "48000/48000 [==============================] - 2s 32us/sample - loss: 0.0348 - acc: 0.9884 - val_loss: 0.0929 - val_acc: 0.9743\n",
            "Epoch 5/20\n",
            "48000/48000 [==============================] - 2s 31us/sample - loss: 0.0246 - acc: 0.9923 - val_loss: 0.0806 - val_acc: 0.9769\n",
            "Epoch 6/20\n",
            "48000/48000 [==============================] - 2s 32us/sample - loss: 0.0181 - acc: 0.9942 - val_loss: 0.0980 - val_acc: 0.9747\n",
            "Epoch 7/20\n",
            "48000/48000 [==============================] - 2s 32us/sample - loss: 0.0153 - acc: 0.9953 - val_loss: 0.0881 - val_acc: 0.9782\n",
            "Epoch 8/20\n",
            "48000/48000 [==============================] - 2s 32us/sample - loss: 0.0155 - acc: 0.9948 - val_loss: 0.0883 - val_acc: 0.9784\n",
            "Epoch 9/20\n",
            "48000/48000 [==============================] - 2s 31us/sample - loss: 0.0089 - acc: 0.9974 - val_loss: 0.1052 - val_acc: 0.9759\n",
            "Epoch 10/20\n",
            "48000/48000 [==============================] - 2s 31us/sample - loss: 0.0115 - acc: 0.9960 - val_loss: 0.1087 - val_acc: 0.9768\n",
            "Epoch 11/20\n",
            "48000/48000 [==============================] - 2s 32us/sample - loss: 0.0133 - acc: 0.9956 - val_loss: 0.1251 - val_acc: 0.9753\n",
            "Epoch 12/20\n",
            "48000/48000 [==============================] - 2s 32us/sample - loss: 0.0160 - acc: 0.9947 - val_loss: 0.1036 - val_acc: 0.9781\n",
            "Epoch 13/20\n",
            "48000/48000 [==============================] - 2s 31us/sample - loss: 0.0067 - acc: 0.9981 - val_loss: 0.1182 - val_acc: 0.9780\n",
            "Epoch 14/20\n",
            "48000/48000 [==============================] - 2s 32us/sample - loss: 0.0052 - acc: 0.9983 - val_loss: 0.1127 - val_acc: 0.9775\n",
            "Epoch 15/20\n",
            "48000/48000 [==============================] - 2s 31us/sample - loss: 0.0095 - acc: 0.9969 - val_loss: 0.1039 - val_acc: 0.9813\n",
            "Epoch 16/20\n",
            "48000/48000 [==============================] - 2s 32us/sample - loss: 0.0105 - acc: 0.9966 - val_loss: 0.1158 - val_acc: 0.9779\n",
            "Epoch 17/20\n",
            "48000/48000 [==============================] - 2s 31us/sample - loss: 0.0087 - acc: 0.9970 - val_loss: 0.1141 - val_acc: 0.9778\n",
            "Epoch 18/20\n",
            "48000/48000 [==============================] - 2s 31us/sample - loss: 0.0062 - acc: 0.9980 - val_loss: 0.1188 - val_acc: 0.9777\n",
            "Epoch 19/20\n",
            "48000/48000 [==============================] - 1s 31us/sample - loss: 0.0063 - acc: 0.9977 - val_loss: 0.1209 - val_acc: 0.9776\n",
            "Epoch 20/20\n",
            "48000/48000 [==============================] - 2s 31us/sample - loss: 0.0096 - acc: 0.9972 - val_loss: 0.1228 - val_acc: 0.9778\n"
          ],
          "name": "stdout"
        },
        {
          "output_type": "execute_result",
          "data": {
            "text/plain": [
              "<tensorflow.python.keras.callbacks.History at 0x7f2aaab9c828>"
            ]
          },
          "metadata": {
            "tags": []
          },
          "execution_count": 14
        }
      ]
    },
    {
      "cell_type": "markdown",
      "metadata": {
        "id": "8OsyUFVULEkG",
        "colab_type": "text"
      },
      "source": [
        "## Сохраняем обученную нейронную сеть"
      ]
    },
    {
      "cell_type": "markdown",
      "metadata": {
        "id": "3H4ivOt5H2rm",
        "colab_type": "text"
      },
      "source": [
        "Записываем обученную нейронную сеть в файл `mnist_dense.h5`"
      ]
    },
    {
      "cell_type": "code",
      "metadata": {
        "id": "jCcYrRwfLYg-",
        "colab_type": "code",
        "colab": {}
      },
      "source": [
        "#Сохраняем нейронку в файл\n",
        "model.save(\"mnist_dense.h5\")\n"
      ],
      "execution_count": 0,
      "outputs": []
    },
    {
      "cell_type": "markdown",
      "metadata": {
        "id": "ulInadIzIBj_",
        "colab_type": "text"
      },
      "source": [
        "Проверяем, что файл сохранился"
      ]
    },
    {
      "cell_type": "code",
      "metadata": {
        "id": "DFOL85B1IEgO",
        "colab_type": "code",
        "outputId": "aecfd4d3-ee41-471c-fdcb-27cda6a683c1",
        "colab": {
          "base_uri": "https://localhost:8080/",
          "height": 35
        }
      },
      "source": [
        "#Выводим на экран список текущих файлов\n",
        "!ls"
      ],
      "execution_count": 0,
      "outputs": [
        {
          "output_type": "stream",
          "text": [
            "mnist_dense.h5\tsample_data\n"
          ],
          "name": "stdout"
        }
      ]
    },
    {
      "cell_type": "markdown",
      "metadata": {
        "id": "52MAtyzWGKAC",
        "colab_type": "text"
      },
      "source": [
        "**Сохраняем файлы на локальный компьютер**"
      ]
    },
    {
      "cell_type": "code",
      "metadata": {
        "id": "0etc3S-PGOuy",
        "colab_type": "code",
        "colab": {}
      },
      "source": [
        "#Скачиваем файл локально на компьютер\n",
        "files.download(\"mnist_dense.h5\")"
      ],
      "execution_count": 0,
      "outputs": []
    },
    {
      "cell_type": "markdown",
      "metadata": {
        "id": "pR_nstTJIRTc",
        "colab_type": "text"
      },
      "source": [
        "Если хотите использовать обученную нейронную сеть на своем компьютере:\n",
        "\n",
        "```\n",
        "from keras.models import load_model\n",
        "model = load_model('mnist_dense.h5')\n",
        "```"
      ]
    },
    {
      "cell_type": "markdown",
      "metadata": {
        "id": "7vMx5V5QMYlW",
        "colab_type": "text"
      },
      "source": [
        "## Используем сеть для распознавания рукописных цифр"
      ]
    },
    {
      "cell_type": "code",
      "metadata": {
        "id": "-AGygAcPMd0G",
        "colab_type": "code",
        "colab": {}
      },
      "source": [
        "#Номер тестовой цифры, которую будем распознавать\n",
        "n_rec = 2223"
      ],
      "execution_count": 0,
      "outputs": []
    },
    {
      "cell_type": "code",
      "metadata": {
        "id": "TT4Ofqx1WTCq",
        "colab_type": "code",
        "outputId": "b1c85cb9-07fe-4219-d5d4-def540053a4d",
        "colab": {
          "base_uri": "https://localhost:8080/",
          "height": 269
        }
      },
      "source": [
        "plt.imshow(Image.fromarray(x_test_org[n_rec]).convert('RGBA'))\n",
        "plt.show()"
      ],
      "execution_count": 0,
      "outputs": [
        {
          "output_type": "display_data",
          "data": {
            "image/png": "[encoded data removed]",
            "text/plain": [
              "<Figure size 432x288 with 1 Axes>"
            ]
          },
          "metadata": {
            "tags": []
          }
        }
      ]
    },
    {
      "cell_type": "markdown",
      "metadata": {
        "id": "Lnft8V55M0Rc",
        "colab_type": "text"
      },
      "source": [
        "**Меняем размерность изображения и нормализуем его**"
      ]
    },
    {
      "cell_type": "code",
      "metadata": {
        "id": "UKFWqSHtM7Nf",
        "colab_type": "code",
        "colab": {}
      },
      "source": [
        "#Выбираем нужную картинку из тестовой выборки\n",
        "x = x_test[n_rec]\n",
        "#Добавляем одну размерность в конце, чтобы нейронка могла распознать пример\n",
        "#Потому что нейронка принимает именно массов примеров для распознавания\n",
        "#Мы делаем массив из одного примеры\n",
        "x = np.expand_dims(x, axis=0)"
      ],
      "execution_count": 0,
      "outputs": []
    },
    {
      "cell_type": "markdown",
      "metadata": {
        "id": "bMruIcf2NHlN",
        "colab_type": "text"
      },
      "source": [
        "**Запускаем распознавание**"
      ]
    },
    {
      "cell_type": "code",
      "metadata": {
        "id": "Ap72-9_kNKU2",
        "colab_type": "code",
        "colab": {}
      },
      "source": [
        "#Распознаём ннаш пример\n",
        "prediction = model.predict(x)"
      ],
      "execution_count": 0,
      "outputs": []
    },
    {
      "cell_type": "markdown",
      "metadata": {
        "id": "2Gldpmn2NQ6-",
        "colab_type": "text"
      },
      "source": [
        "**Печатаем результаты распознавания**"
      ]
    },
    {
      "cell_type": "code",
      "metadata": {
        "id": "P7opRiSZNUku",
        "colab_type": "code",
        "outputId": "4a2b09a5-7718-4cce-87ba-ab1b0f52d853",
        "colab": {
          "base_uri": "https://localhost:8080/",
          "height": 54
        }
      },
      "source": [
        "#Выводим результат, это 10 цифр\n",
        "#Сумма значений равна 1, так как финальный слой с активационной функций softmax\n",
        "print(prediction)"
      ],
      "execution_count": 0,
      "outputs": [
        {
          "output_type": "stream",
          "text": [
            "[[1.9128024e-18 2.3390388e-13 2.1945682e-20 1.9889210e-21 1.0000000e+00\n",
            "  2.3097902e-18 5.1134071e-16 1.5867533e-13 4.9237035e-11 2.3106289e-13]]\n"
          ],
          "name": "stdout"
        }
      ]
    },
    {
      "cell_type": "markdown",
      "metadata": {
        "id": "LQTiyEM3NfRG",
        "colab_type": "text"
      },
      "source": [
        "**Преобразуем результаты из формата one hot encoding**"
      ]
    },
    {
      "cell_type": "code",
      "metadata": {
        "id": "XVC_dTGqNohG",
        "colab_type": "code",
        "outputId": "4dda2b21-bc98-49c1-bcf6-2a88a6d23329",
        "colab": {
          "base_uri": "https://localhost:8080/",
          "height": 35
        }
      },
      "source": [
        "#Получаем индекс самого большого элемента\n",
        "#Это итоговая цифра, которую распознала сеть\n",
        "prediction = np.argmax(prediction)\n",
        "print(prediction)"
      ],
      "execution_count": 0,
      "outputs": [
        {
          "output_type": "stream",
          "text": [
            "4\n"
          ],
          "name": "stdout"
        }
      ]
    },
    {
      "cell_type": "markdown",
      "metadata": {
        "id": "zJy8tKjuNyD2",
        "colab_type": "text"
      },
      "source": [
        "**Печатаем правильный ответ**"
      ]
    },
    {
      "cell_type": "code",
      "metadata": {
        "id": "0zoGlCZWN2Id",
        "colab_type": "code",
        "outputId": "c7508df3-0509-464d-9db0-8e0eeb826a24",
        "colab": {
          "base_uri": "https://localhost:8080/",
          "height": 35
        }
      },
      "source": [
        "#выводим правильный ответ, для сравнения\n",
        "print(y_test_org[n_rec])"
      ],
      "execution_count": 0,
      "outputs": [
        {
          "output_type": "stream",
          "text": [
            "4\n"
          ],
          "name": "stdout"
        }
      ]
    },
    {
      "cell_type": "markdown",
      "metadata": {
        "id": "uFyI8beELi39",
        "colab_type": "text"
      },
      "source": [
        "## Загружаем свою картинку"
      ]
    },
    {
      "cell_type": "code",
      "metadata": {
        "id": "Pbsw3N30LnT2",
        "colab_type": "code",
        "outputId": "5b8a66ed-bb3e-4f51-88a6-62ade8225cdf",
        "colab": {
          "resources": {
            "http://localhost:8080/nbextensions/google.colab/files.js": {
              "data": "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",
              "ok": true,
              "headers": [
                [
                  "content-type",
                  "application/javascript"
                ]
              ],
              "status": 200,
              "status_text": "OK"
            }
          },
          "base_uri": "https://localhost:8080/",
          "height": 114
        }
      },
      "source": [
        "#Загружаем файл со своей рукописной цифрой\n",
        "files.upload()"
      ],
      "execution_count": 0,
      "outputs": [
        {
          "output_type": "display_data",
          "data": {
            "text/html": [
              "\n",
              "     <input type=\"file\" id=\"files-b4152120-39c4-42ed-9087-f0fdbf2103c2\" name=\"files[]\" multiple disabled />\n",
              "     <output id=\"result-b4152120-39c4-42ed-9087-f0fdbf2103c2\">\n",
              "      Upload widget is only available when the cell has been executed in the\n",
              "      current browser session. Please rerun this cell to enable.\n",
              "      </output>\n",
              "      <script src=\"/nbextensions/google.colab/files.js\"></script> "
            ],
            "text/plain": [
              "<IPython.core.display.HTML object>"
            ]
          },
          "metadata": {
            "tags": []
          }
        },
        {
          "output_type": "stream",
          "text": [
            "Saving 9_2.png to 9_2.png\n"
          ],
          "name": "stdout"
        },
        {
          "output_type": "execute_result",
          "data": {
            "text/plain": [
              "{'9_2.png': b'\\x89PNG\\r\\n\\x1a\\n\\x00\\x00\\x00\\rIHDR\\x00\\x00\\x00\\x89\\x00\\x00\\x00y\\x08\\x02\\x00\\x00\\x00\\x82\\xd4\\x95\\x87\\x00\\x00\\x00\\x01sRGB\\x00\\xae\\xce\\x1c\\xe9\\x00\\x00\\x00\\x04gAMA\\x00\\x00\\xb1\\x8f\\x0b\\xfca\\x05\\x00\\x00\\x00\\tpHYs\\x00\\x00\\x0e\\xc3\\x00\\x00\\x0e\\xc3\\x01\\xc7o\\xa8d\\x00\\x00\\x03\\xf1IDATx^\\xed\\x9dQn\\x1b1\\x0c\\x05}.\\x1fh\\xcf\\xe3\\xd3\\xece\\xf60\\xae\\x9a\\xc7\\xd2\\xab\\xc7e\\xd1\\xa0\\xa6\\xcc\\x16o0\\xf9\\x08\\x10\\x9b\\x92G?\\x8a\\x01\\xfb\\xf6\\x14]Q\\x9b\\xbe\\xa8M_\\xd4\\xa6/j\\xd3\\x17\\xb5\\xe9\\x8b\\xda\\xf4Em\\xfa\\xa26}Q\\x9b\\xbe\\xa8M_\\xd4\\xa6/j\\xd3\\x17\\xb5\\xe9\\xcb\\'\\xda\\x1c{\\xe6v\\xbfGo\\xef <\\xab\\xb9\\x1f\\xcfK;\\xa06\\\\\\x05v@m\\xb8\\n\\xec\\x80\\xdap\\x15\\xd8\\x01\\xb5\\xe1*\\xb0\\x03j\\xc3U`\\x07\\xd4\\x86\\xab\\xc0\\x0e\\x14\\xb7\\xd9\\xb7\\xa8\\xbdZ]\\x18\\xed/|\\x1c\\xcfKW\\xa26\\\\\\x05R\\x12w%j\\xc3U %qW\\xa26\\\\\\x05R\\x12w%j\\xc3U %qW\\xa26\\\\\\x05R\\x12w%j\\xc3U %qW\\xf2\\xc66{tt\\x88\\xfe\\x16\\xfa\\xdb\\x9f\\xd2\\xcd\\xe3\\xec%\\xc7\\xfe\\x88\\xf2k\\xff\\xcb\\x94m\\xbf\\xd4f,Am\\x12B\\x15h3\\x96\\xa06\\t\\xa1\\n\\xb4\\x19KP\\x9b\\x84P\\x05\\xda\\x8c%\\xa8MB\\xa8\\x02m\\xc6\\x12\\xd4&!T\\x816c\\tj\\x93\\x10\\xaa@\\x9b\\xb1\\x84\\xf7\\xb59\\x1eQz!\\xe0o\\x18\\xd7\\x8a\\xa8=\\xff\\xdf1\\x8e\\xc9\\xa59\\xd3\\xf9p\\xa7\\xa3\\xf7\\xcb\"\\xd4&cJ\\xe2R\\x15X\\x84\\xdadLI\\\\\\xaa\\x02\\x8bP\\x9b\\x8c)\\x89KU`\\x11j\\x931%q\\xa9\\n,Bm2\\xa6$.U\\x81E\\xa8M\\xc6\\x94\\xc4\\xa5*\\xb0\\x88^m\\xc6\\xd6\\xa3oa\\xac\\xe5R\\x1b|\\xc1y\\xc9/\\xc7Q\\x89\\x16\\xa16\\x19\\xe7%\\xbf\\xa4*\\xb0\\x08\\xb5\\xc98/\\xf9%U\\x81E\\xa8M\\xc6y\\xc9/\\xa9\\n,Bm2\\xceK~IU`\\x11j\\x93q^\\xf2K\\xaa\\x02\\x8b\\xe8\\xd5f\\xec=:\\xf6\\x9ey\\xcdqD\\x1f\\xdb\\xed\\xd2\\x1cZ\\xb5yN\\xe2\\x16\\xa16\\x19\\xb4j\\xf3\\x9c\\xc4-Bm2h\\xd5\\xe69\\x89[\\x84\\xdad\\xd0\\xaa\\xcds\\x12\\xb7\\x08\\xb5\\xc9\\xa0U\\x9b\\xe7$n\\x11j\\x93A\\xab6\\xcfI\\xdc\"\\xd4&\\x83Vm\\x9e\\x93\\xb8E\\xbc\\xaf\\xcd\\x15\\xf4O_\\xf8\\x8f\\xc0U U\\x81E\\xa8M\\x06W\\x81T\\x05\\x16\\xa16\\x19\\\\\\x05R\\x15X\\x84\\xdadp\\x15HU`\\x11j\\x93\\xc1U U\\x81E\\xa8M\\x06W\\x81T\\x05\\x16\\xa16\\x19\\\\\\x05R\\x15XDm\\x9b\\xf96b\\xee\\xdb=\\x93_\\x89/\\xbf\\x0b}\\xf2\\x06\\xdc\\xb6\\xf1s\\xa1=\\xe6\\x82q\\x88.\\xdc\\xc7\\x81\\x0b\\x16\\xa16\\x19\\\\\\x05R\\x15X\\x84\\xdadp\\x15HU`\\x11j\\x93\\xc1U U\\x81E\\xa8M\\x06W\\x81T\\x05\\x16\\xa16\\x19\\\\\\x05R\\x15X\\x84\\xdadp\\x15HU`\\x11\\xd5m\\xba@w,7%\\xbcU\\x01\\xf9\\xa0}Y\\x84\\xda$\\x84*\\x90\\xaa\\xc0\"\\xd4&!T\\x81T\\x05\\x16\\xa16\\t\\xa1\\n\\xa4*\\xb0\\x08\\xb5I\\x08U U\\x81E\\xa8MB\\xa8\\x02\\xa9\\n,Bm\\x12B\\x15HU`\\x11\\xffe\\x1b\\xba~\\xfctT\\xb84%|\"\\x07\\xb4\\tKP\\x9b\\x84P\\x05\\xda\\x84%\\xa8MB\\xa8\\x02m\\xc2\\x12\\xd4&!T\\x816a\\tj\\x93\\x10\\xaa@\\x9b\\xb0\\x04\\xb5I\\x08U\\xa0MX\\x82\\xda$\\x84*\\xd0&,\\xa1\\xb6\\xcdq\\xecQ\\xfe\\xfd\\xa4=\\xec\\xcf\\t\\xdf\\xd22\\xdc\\xee\\xb7h\\x8e\\xbf\\x1719.2\\x97\\xaeDm\\xa6$.%qW\\xa26S\\x12\\x97\\x92\\xb8+Q\\x9b)\\x89KI\\xdc\\x95\\xa8\\xcd\\x94\\xc4\\xa5$\\xeeJ\\xd4fJ\\xe2R\\x12w%j3%q)\\x89\\xbb\\x92\\xda6\\xe3Z\\x11m\\xc5\\x88p\\xa9m\\xe0\\xa3\\xa8\\rW\\x81\\xb6\\x81\\x8f\\xa26\\\\\\x05\\xda\\x06>\\x8a\\xdap\\x15h\\x1b\\xf8(j\\xc3U\\xa0m\\xe0\\xa3\\xa8\\rW\\x81\\xb6\\x81\\x8f\\xa26\\\\\\x05\\xda\\x06>Jm\\x9bq\\xd9\\x88\\xde\\xef\\xb7\\xcc\\xef3]J\\xe0}{D\\xe9\\xcbY\\xdc\\xce\\xa8M_\\xd4\\xa6/j\\xd3\\x17\\xb5\\xe9\\x8b\\xda\\xf4\\xa5\\xb6\\x8d\\xf8\\x1b\\xd4\\xa6/j\\xd3\\x17\\xb5\\xe9\\x8b\\xda\\xf4Em\\xfa\\xa26}Q\\x9b\\xbe\\xa8M_\\xd4\\xa6/j\\xd3\\x17\\xb5\\xe9\\x8b\\xda\\xf4Em\\xfa\\xa26}Q\\x9b\\xbe\\xa8M_\\xd4\\xa6+\\xcf\\xe7\\x0fU\\xdf\\xd8\\xb1d?\\xc9\\xa8\\x00\\x00\\x00\\x00IEND\\xaeB`\\x82'}"
            ]
          },
          "metadata": {
            "tags": []
          },
          "execution_count": 36
        }
      ]
    },
    {
      "cell_type": "markdown",
      "metadata": {
        "id": "2rXNsnTnMLJO",
        "colab_type": "text"
      },
      "source": [
        "Проверяем загрузку картинки"
      ]
    },
    {
      "cell_type": "code",
      "metadata": {
        "id": "v3y6wbi-MNqs",
        "colab_type": "code",
        "outputId": "f62382bc-5df5-427b-bef0-446363e4a220",
        "colab": {
          "base_uri": "https://localhost:8080/",
          "height": 35
        }
      },
      "source": [
        "!ls"
      ],
      "execution_count": 0,
      "outputs": [
        {
          "output_type": "stream",
          "text": [
            "9_2.png  9.png\tsample_data\n"
          ],
          "name": "stdout"
        }
      ]
    },
    {
      "cell_type": "markdown",
      "metadata": {
        "id": "F8HQI_X5MUms",
        "colab_type": "text"
      },
      "source": [
        "Загружаем картинку из файла"
      ]
    },
    {
      "cell_type": "code",
      "metadata": {
        "id": "Zfi4L4iYMTLE",
        "colab_type": "code",
        "colab": {}
      },
      "source": [
        "#Указывает путь к файлу\n",
        "img_path = '9_2.png'\n",
        "#Загружаем картинку, меняем размер на 28х28, формат на оттенки серого\n",
        "img = image.load_img(img_path, target_size=(28, 28), color_mode = \"grayscale\")"
      ],
      "execution_count": 0,
      "outputs": []
    },
    {
      "cell_type": "markdown",
      "metadata": {
        "id": "c2yCw9y1QSL1",
        "colab_type": "text"
      },
      "source": [
        "Показываем картинку"
      ]
    },
    {
      "cell_type": "code",
      "metadata": {
        "id": "BNW4bWUYP8Rt",
        "colab_type": "code",
        "outputId": "c41875ec-580f-48ed-f62c-a39262f6378e",
        "colab": {
          "base_uri": "https://localhost:8080/",
          "height": 269
        }
      },
      "source": [
        "#Выводим картинку\n",
        "plt.imshow(img.convert('RGBA'))\n",
        "plt.show()"
      ],
      "execution_count": 0,
      "outputs": [
        {
          "output_type": "display_data",
          "data": {
            "image/png": "[encoded data removed]",
            "text/plain": [
              "<Figure size 432x288 with 1 Axes>"
            ]
          },
          "metadata": {
            "tags": []
          }
        }
      ]
    },
    {
      "cell_type": "markdown",
      "metadata": {
        "id": "2fHqp8KbOsJd",
        "colab_type": "text"
      },
      "source": [
        "Преобразуем картинку для обработки нейронной сетью"
      ]
    },
    {
      "cell_type": "code",
      "metadata": {
        "id": "0xsuR1vDNihN",
        "colab_type": "code",
        "colab": {}
      },
      "source": [
        "#Преобразуем картинку в массив\n",
        "x = image.img_to_array(img)\n",
        "#Меняем форму массива в плоский вектор\n",
        "x = x.reshape(1, 784)\n",
        "#Инвертируем изображение, нам надо белое на чёрном фоне\n",
        "x = 255 - x\n",
        "#Нормализуем изображение\n",
        "x /= 255"
      ],
      "execution_count": 0,
      "outputs": []
    },
    {
      "cell_type": "markdown",
      "metadata": {
        "id": "OYpe-m2bNR-8",
        "colab_type": "text"
      },
      "source": [
        "Запускаем распознавание"
      ]
    },
    {
      "cell_type": "code",
      "metadata": {
        "id": "jTUbtYAPNI60",
        "colab_type": "code",
        "colab": {}
      },
      "source": [
        "#Распознаём картинку\n",
        "prediction = model.predict(x)"
      ],
      "execution_count": 0,
      "outputs": []
    },
    {
      "cell_type": "markdown",
      "metadata": {
        "id": "gdDM5wzcRRql",
        "colab_type": "text"
      },
      "source": [
        "Результаты распознавания"
      ]
    },
    {
      "cell_type": "code",
      "metadata": {
        "id": "4qbu45hIMQvk",
        "colab_type": "code",
        "outputId": "f00bc162-e17e-4cc9-f693-ff94ebf1135b",
        "colab": {
          "base_uri": "https://localhost:8080/",
          "height": 72
        }
      },
      "source": [
        "#Выводим результат\n",
        "prediction"
      ],
      "execution_count": 0,
      "outputs": [
        {
          "output_type": "execute_result",
          "data": {
            "text/plain": [
              "array([[8.0555890e-10, 7.0287101e-08, 4.0093163e-08, 1.5769515e-04,\n",
              "        2.0342052e-02, 7.7709892e-06, 1.3275576e-12, 3.4342136e-08,\n",
              "        1.1195215e-02, 9.6829712e-01]], dtype=float32)"
            ]
          },
          "metadata": {
            "tags": []
          },
          "execution_count": 42
        }
      ]
    },
    {
      "cell_type": "code",
      "metadata": {
        "id": "iOwGOz41PNsV",
        "colab_type": "code",
        "outputId": "82a501e5-c17e-4a82-bcbf-6090026aaec8",
        "colab": {
          "base_uri": "https://localhost:8080/",
          "height": 35
        }
      },
      "source": [
        "#Выводим распознанную цифру\n",
        "print(np.argmax(prediction))"
      ],
      "execution_count": 0,
      "outputs": [
        {
          "output_type": "stream",
          "text": [
            "9\n"
          ],
          "name": "stdout"
        }
      ]
    }
  ]
}